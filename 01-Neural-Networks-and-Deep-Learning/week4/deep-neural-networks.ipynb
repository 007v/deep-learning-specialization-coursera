{
 "cells": [
  {
   "cell_type": "markdown",
   "metadata": {
    "toc": "true"
   },
   "source": [
    "# Table of Contents\n",
    " <p><div class=\"lev1 toc-item\"><a href=\"#Deep-L-layer-neural-network\" data-toc-modified-id=\"Deep-L-layer-neural-network-1\"><span class=\"toc-item-num\">1&nbsp;&nbsp;</span>Deep L-layer neural network</a></div><div class=\"lev1 toc-item\"><a href=\"#Forward-and-Backward-Propagation\" data-toc-modified-id=\"Forward-and-Backward-Propagation-2\"><span class=\"toc-item-num\">2&nbsp;&nbsp;</span>Forward and Backward Propagation</a></div><div class=\"lev1 toc-item\"><a href=\"#Forward-Propagation-in-a-Deep-Network\" data-toc-modified-id=\"Forward-Propagation-in-a-Deep-Network-3\"><span class=\"toc-item-num\">3&nbsp;&nbsp;</span>Forward Propagation in a Deep Network</a></div><div class=\"lev1 toc-item\"><a href=\"#Getting-your-matrix-dimensions-right\" data-toc-modified-id=\"Getting-your-matrix-dimensions-right-4\"><span class=\"toc-item-num\">4&nbsp;&nbsp;</span>Getting your matrix dimensions right</a></div><div class=\"lev1 toc-item\"><a href=\"#Why-deep-representations?\" data-toc-modified-id=\"Why-deep-representations?-5\"><span class=\"toc-item-num\">5&nbsp;&nbsp;</span>Why deep representations?</a></div>"
   ]
  },
  {
   "cell_type": "markdown",
   "metadata": {},
   "source": [
    "# Deep L-layer neural network"
   ]
  },
  {
   "cell_type": "markdown",
   "metadata": {},
   "source": [
    "![](https://i.imgur.com/eV6FBF3.png)\n",
    "![](https://i.imgur.com/r4JQDMI.png)"
   ]
  },
  {
   "cell_type": "markdown",
   "metadata": {},
   "source": [
    "# Forward and Backward Propagation"
   ]
  },
  {
   "cell_type": "markdown",
   "metadata": {},
   "source": [
    "![](https://i.imgur.com/gL6IaSu.png)\n",
    "![](https://i.imgur.com/2IspCxz.png)"
   ]
  },
  {
   "cell_type": "markdown",
   "metadata": {},
   "source": [
    "# Forward Propagation in a Deep Network"
   ]
  },
  {
   "cell_type": "markdown",
   "metadata": {},
   "source": [
    "![](https://i.imgur.com/IraBPGL.png)"
   ]
  },
  {
   "cell_type": "markdown",
   "metadata": {},
   "source": [
    "# Getting your matrix dimensions right"
   ]
  },
  {
   "cell_type": "markdown",
   "metadata": {},
   "source": [
    "![](https://i.imgur.com/Ua9llNn.png)\n",
    "![](https://i.imgur.com/1d77KhD.png)"
   ]
  },
  {
   "cell_type": "markdown",
   "metadata": {},
   "source": [
    "# Why deep representations?"
   ]
  },
  {
   "cell_type": "code",
   "execution_count": null,
   "metadata": {
    "collapsed": true
   },
   "outputs": [],
   "source": []
  }
 ],
 "metadata": {
  "kernelspec": {
   "display_name": "Python 3",
   "language": "python",
   "name": "python3"
  },
  "language_info": {
   "codemirror_mode": {
    "name": "ipython",
    "version": 3
   },
   "file_extension": ".py",
   "mimetype": "text/x-python",
   "name": "python",
   "nbconvert_exporter": "python",
   "pygments_lexer": "ipython3",
   "version": "3.6.2"
  },
  "toc": {
   "colors": {
    "hover_highlight": "#DAA520",
    "navigate_num": "#000000",
    "navigate_text": "#333333",
    "running_highlight": "#FF0000",
    "selected_highlight": "#FFD700",
    "sidebar_border": "#EEEEEE",
    "wrapper_background": "#FFFFFF"
   },
   "moveMenuLeft": true,
   "nav_menu": {
    "height": "102px",
    "width": "252px"
   },
   "navigate_menu": true,
   "number_sections": false,
   "sideBar": true,
   "threshold": 4,
   "toc_cell": true,
   "toc_section_display": "block",
   "toc_window_display": true,
   "widenNotebook": false
  }
 },
 "nbformat": 4,
 "nbformat_minor": 2
}
